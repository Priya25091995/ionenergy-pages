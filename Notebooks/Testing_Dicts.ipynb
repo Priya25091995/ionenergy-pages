{
 "cells": [
  {
   "cell_type": "code",
   "execution_count": 1,
   "id": "4c947ea4-1316-42c3-b057-e63908b9e18e",
   "metadata": {
    "tags": [
     "parameters"
    ]
   },
   "outputs": [],
   "source": [
    "a = {\"one\": 1, \"two\": 2}\n",
    "b = {\"twenty\": 20, \"thirty\": 30}"
   ]
  },
  {
   "cell_type": "code",
   "execution_count": 2,
   "id": "cb7db99f-ca7a-4f65-8755-6e692421a0a6",
   "metadata": {},
   "outputs": [
    {
     "name": "stdout",
     "output_type": "stream",
     "text": [
      "{'one': 1, 'two': 2}\n"
     ]
    }
   ],
   "source": [
    "print(a)"
   ]
  },
  {
   "cell_type": "code",
   "execution_count": 3,
   "id": "9d78648d-06e7-4da3-a2b1-c87a5709c4b5",
   "metadata": {},
   "outputs": [
    {
     "name": "stdout",
     "output_type": "stream",
     "text": [
      "{'twenty': 20, 'thirty': 30}\n"
     ]
    }
   ],
   "source": [
    "print(b)"
   ]
  },
  {
   "cell_type": "code",
   "execution_count": null,
   "id": "5fe25539-d5e9-4bfe-b260-df27b591a216",
   "metadata": {},
   "outputs": [],
   "source": []
  }
 ],
 "metadata": {
  "kernelspec": {
   "display_name": "Python 3",
   "language": "python",
   "name": "python3"
  },
  "language_info": {
   "codemirror_mode": {
    "name": "ipython",
    "version": 3
   },
   "file_extension": ".py",
   "mimetype": "text/x-python",
   "name": "python",
   "nbconvert_exporter": "python",
   "pygments_lexer": "ipython3",
   "version": "3.9.7"
  }
 },
 "nbformat": 4,
 "nbformat_minor": 5
}
